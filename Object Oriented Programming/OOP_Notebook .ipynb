{
 "cells": [
  {
   "cell_type": "markdown",
   "metadata": {},
   "source": [
    "### Object Oriented Programming"
   ]
  },
  {
   "cell_type": "markdown",
   "metadata": {},
   "source": [
    "### what-is-object-oriented-programming-oop?\n",
    "Object-oriented Programming, or OOP for short, is a programming paradigm which provides a means of structuring programs\n",
    "so that properties and behaviors are bundled into individual objects.\n",
    "\n",
    "#### DefinitionSource:[RealPython.com](https://realpython.com/python3-object-oriented-programming/#),[ThePythonGuru](https://thepythonguru.com/python-object-and-classes/)\n"
   ]
  },
  {
   "cell_type": "code",
   "execution_count": 11,
   "metadata": {},
   "outputs": [],
   "source": [
    "class Dog:\n",
    "\n",
    "    #Constructor\n",
    "    def __init__(self,name):\n",
    "        '''\n",
    "        All methods in python including some special methods like initializer have first parameter self. \n",
    "        This parameter refers to the object which invokes the method. \n",
    "        When you create new object the self parameter in the __init__  method\n",
    "        is automatically set to reference the object you have just created.\n",
    "        '''\n",
    "        self.name = name\n",
    "        \n",
    "    def show(self):\n",
    "        print('Dog name is ',self.name)"
   ]
  },
  {
   "cell_type": "code",
   "execution_count": 9,
   "metadata": {},
   "outputs": [
    {
     "name": "stdout",
     "output_type": "stream",
     "text": [
      "Dog name is  Rajapalayam\n"
     ]
    },
    {
     "data": {
      "text/plain": [
       "'Rajapalayam'"
      ]
     },
     "execution_count": 9,
     "metadata": {},
     "output_type": "execute_result"
    }
   ],
   "source": [
    "Breed = Dog('Rajapalayam') #Created a new object called breed \n",
    "\n",
    "Breed.show()\n",
    "Breed.name"
   ]
  },
  {
   "cell_type": "code",
   "execution_count": 10,
   "metadata": {},
   "outputs": [
    {
     "data": {
      "text/plain": [
       "'Labdog'"
      ]
     },
     "execution_count": 10,
     "metadata": {},
     "output_type": "execute_result"
    }
   ],
   "source": [
    "# You can also change the breed name\n",
    "\n",
    "Breed.name = 'Labdog'\n",
    "Breed.name\n",
    "\n",
    "# Giving access to your data outside the class is not a good idea"
   ]
  },
  {
   "cell_type": "markdown",
   "metadata": {},
   "source": [
    "#### Hiding data fields"
   ]
  },
  {
   "cell_type": "code",
   "execution_count": 19,
   "metadata": {},
   "outputs": [],
   "source": [
    "class BankAccount:\n",
    "    \n",
    "    def __init__(self,name,money):\n",
    "        self.name = name\n",
    "        self.__balance = money # here we're making balance as private data by using two leading undersc\n",
    "        \n",
    "    def deposit(self,money):\n",
    "        self.__balance += money \n",
    "        print('Deposit Successfully')\n",
    "        \n",
    "    def withdraw(self,money):\n",
    "        if self.__balance > money:\n",
    "            self.__balance -= money\n",
    "            print('Remaining Balance %d'%self.__balance)\n",
    "            return money\n",
    "        else:\n",
    "            print('Insufficient Balance')\n",
    "    \n",
    "    def balance_enquiry(self):\n",
    "        print('Remaining Balance %d'%self.__balance)\n",
    "        \n",
    "    def Account_details(self):\n",
    "        print('Account name:',self.name)\n",
    "        print('Balance:',self.__balance)\n",
    "        "
   ]
  },
  {
   "cell_type": "code",
   "execution_count": 20,
   "metadata": {},
   "outputs": [
    {
     "name": "stdout",
     "output_type": "stream",
     "text": [
      "Account name: Aasai\n",
      "Balance: 50000\n",
      "---------------\n",
      "Deposit Successfully\n",
      "---------------\n",
      "Remaining Balance 62000\n",
      "---------------\n",
      "Remaining Balance 12000\n"
     ]
    },
    {
     "data": {
      "text/plain": [
       "50000"
      ]
     },
     "execution_count": 20,
     "metadata": {},
     "output_type": "execute_result"
    }
   ],
   "source": [
    "#Access data inside class using our object\n",
    "\n",
    "Acc = BankAccount('Aasai',50000)\n",
    "\n",
    "Acc.Account_details()\n",
    "print('---------------')\n",
    "Acc.deposit(12000)\n",
    "print('---------------')\n",
    "Acc.balance_enquiry()\n",
    "print('---------------')\n",
    "Acc.withdraw(50000)"
   ]
  },
  {
   "cell_type": "code",
   "execution_count": 22,
   "metadata": {},
   "outputs": [
    {
     "ename": "AttributeError",
     "evalue": "'BankAccount' object has no attribute '__balance'",
     "output_type": "error",
     "traceback": [
      "\u001b[1;31m---------------------------------------------------------------------------\u001b[0m",
      "\u001b[1;31mAttributeError\u001b[0m                            Traceback (most recent call last)",
      "\u001b[1;32m<ipython-input-22-1318a707c801>\u001b[0m in \u001b[0;36m<module>\u001b[1;34m\u001b[0m\n\u001b[0;32m      1\u001b[0m \u001b[1;31m#Access private in class would end up in error\u001b[0m\u001b[1;33m\u001b[0m\u001b[1;33m\u001b[0m\u001b[1;33m\u001b[0m\u001b[0m\n\u001b[1;32m----> 2\u001b[1;33m \u001b[0mAcc\u001b[0m\u001b[1;33m.\u001b[0m\u001b[0m__balance\u001b[0m\u001b[1;33m\u001b[0m\u001b[1;33m\u001b[0m\u001b[0m\n\u001b[0m",
      "\u001b[1;31mAttributeError\u001b[0m: 'BankAccount' object has no attribute '__balance'"
     ]
    }
   ],
   "source": [
    "#Access private in class would end up in error \n",
    "Acc.__balance"
   ]
  },
  {
   "cell_type": "code",
   "execution_count": 23,
   "metadata": {},
   "outputs": [
    {
     "data": {
      "text/plain": [
       "'Aasai'"
      ]
     },
     "execution_count": 23,
     "metadata": {},
     "output_type": "execute_result"
    }
   ],
   "source": [
    "#Now Access public data in class\n",
    "\n",
    "Acc.name"
   ]
  },
  {
   "cell_type": "markdown",
   "metadata": {},
   "source": [
    "#### Operator Overloading"
   ]
  },
  {
   "cell_type": "code",
   "execution_count": 2,
   "metadata": {},
   "outputs": [],
   "source": [
    "class circle:\n",
    "    \n",
    "    def __init__(self,radius):\n",
    "        self.__radius = radius\n",
    "    \n",
    "    def get_radius(self):\n",
    "        return self.__radius"
   ]
  },
  {
   "cell_type": "code",
   "execution_count": 3,
   "metadata": {},
   "outputs": [
    {
     "data": {
      "text/plain": [
       "4"
      ]
     },
     "execution_count": 3,
     "metadata": {},
     "output_type": "execute_result"
    }
   ],
   "source": [
    "c1 = circle(4)\n",
    "c1.get_radius()"
   ]
  },
  {
   "cell_type": "code",
   "execution_count": 4,
   "metadata": {},
   "outputs": [
    {
     "data": {
      "text/plain": [
       "5"
      ]
     },
     "execution_count": 4,
     "metadata": {},
     "output_type": "execute_result"
    }
   ],
   "source": [
    "c2 = circle(5)\n",
    "c2.get_radius()"
   ]
  },
  {
   "cell_type": "code",
   "execution_count": 5,
   "metadata": {},
   "outputs": [
    {
     "ename": "TypeError",
     "evalue": "unsupported operand type(s) for +: 'circle' and 'circle'",
     "output_type": "error",
     "traceback": [
      "\u001b[1;31m---------------------------------------------------------------------------\u001b[0m",
      "\u001b[1;31mTypeError\u001b[0m                                 Traceback (most recent call last)",
      "\u001b[1;32m<ipython-input-5-643a6bd3265c>\u001b[0m in \u001b[0;36m<module>\u001b[1;34m\u001b[0m\n\u001b[1;32m----> 1\u001b[1;33m \u001b[0mc1\u001b[0m\u001b[1;33m+\u001b[0m\u001b[0mc2\u001b[0m\u001b[1;33m\u001b[0m\u001b[1;33m\u001b[0m\u001b[0m\n\u001b[0m",
      "\u001b[1;31mTypeError\u001b[0m: unsupported operand type(s) for +: 'circle' and 'circle'"
     ]
    }
   ],
   "source": [
    "c1+c2 # to add this together we need to define method for + operator"
   ]
  },
  {
   "cell_type": "code",
   "execution_count": 11,
   "metadata": {},
   "outputs": [],
   "source": [
    "class circle:\n",
    "    \n",
    "    def __init__(self,radius):\n",
    "        self.__radius = radius\n",
    "    \n",
    "    def get_radius(self):\n",
    "        return self.__radius\n",
    "    \n",
    "    def __add__(self, another_circle):\n",
    "        return circle( self.__radius + another_circle.__radius )\n",
    "        "
   ]
  },
  {
   "cell_type": "code",
   "execution_count": 12,
   "metadata": {},
   "outputs": [
    {
     "data": {
      "text/plain": [
       "4"
      ]
     },
     "execution_count": 12,
     "metadata": {},
     "output_type": "execute_result"
    }
   ],
   "source": [
    "c1 = circle(4)\n",
    "c1.get_radius()"
   ]
  },
  {
   "cell_type": "code",
   "execution_count": 14,
   "metadata": {},
   "outputs": [
    {
     "data": {
      "text/plain": [
       "5"
      ]
     },
     "execution_count": 14,
     "metadata": {},
     "output_type": "execute_result"
    }
   ],
   "source": [
    "c2 = circle(5)\n",
    "c2.get_radius()"
   ]
  },
  {
   "cell_type": "code",
   "execution_count": 16,
   "metadata": {},
   "outputs": [
    {
     "data": {
      "text/plain": [
       "9"
      ]
     },
     "execution_count": 16,
     "metadata": {},
     "output_type": "execute_result"
    }
   ],
   "source": [
    "c3 = c1 + c2\n",
    "c3.get_radius()"
   ]
  },
  {
   "cell_type": "code",
   "execution_count": 13,
   "metadata": {},
   "outputs": [],
   "source": [
    "# More Examples\n",
    "\n",
    "import math\n",
    "\n",
    "class operators:\n",
    "    \n",
    "    def __init__(self,rad):\n",
    "        self.__radius = rad\n",
    "        \n",
    "    def get_radius(self):\n",
    "        return self.__radius\n",
    "    \n",
    "    def __add__(self,another):\n",
    "        return operators(self.__radius + another.__radius)\n",
    "    \n",
    "    def __sub__(self,another):\n",
    "        return operators(self.__radius - another.__radius)\n",
    "    \n",
    "    def __mul__(self,another):\n",
    "        return operators(self.__radius * another.__radius)\n",
    "    \n",
    "    def __lt__(self,another):\n",
    "        return self.__radius < another.__radius\n",
    "    \n",
    "    def __gt__(self,another):\n",
    "        return self.__radius > another.__radius\n",
    "    \n",
    "    def __eq__(self,another):\n",
    "        return self.__radius == another.__radius\n",
    "    \n",
    "    def __ne__(self,another):\n",
    "        return self.__radius != another.__radius\n",
    "    "
   ]
  },
  {
   "cell_type": "code",
   "execution_count": 16,
   "metadata": {},
   "outputs": [],
   "source": [
    "c1 = operators(9)\n",
    "c2 = operators(4) "
   ]
  },
  {
   "cell_type": "code",
   "execution_count": 17,
   "metadata": {},
   "outputs": [
    {
     "name": "stdout",
     "output_type": "stream",
     "text": [
      "13\n"
     ]
    }
   ],
   "source": [
    "c3 = c1 + c2\n",
    "print(c3.get_radius())"
   ]
  },
  {
   "cell_type": "code",
   "execution_count": 18,
   "metadata": {},
   "outputs": [
    {
     "name": "stdout",
     "output_type": "stream",
     "text": [
      "5\n"
     ]
    }
   ],
   "source": [
    "c3 = c1 - c2\n",
    "print(c3.get_radius())"
   ]
  },
  {
   "cell_type": "code",
   "execution_count": 19,
   "metadata": {},
   "outputs": [
    {
     "name": "stdout",
     "output_type": "stream",
     "text": [
      "36\n"
     ]
    }
   ],
   "source": [
    "c3 = c1 * c2\n",
    "print(c3.get_radius())"
   ]
  },
  {
   "cell_type": "code",
   "execution_count": 20,
   "metadata": {},
   "outputs": [
    {
     "data": {
      "text/plain": [
       "True"
      ]
     },
     "execution_count": 20,
     "metadata": {},
     "output_type": "execute_result"
    }
   ],
   "source": [
    "c1 > c2"
   ]
  },
  {
   "cell_type": "code",
   "execution_count": 21,
   "metadata": {},
   "outputs": [
    {
     "data": {
      "text/plain": [
       "False"
      ]
     },
     "execution_count": 21,
     "metadata": {},
     "output_type": "execute_result"
    }
   ],
   "source": [
    "c1 < c2"
   ]
  },
  {
   "cell_type": "code",
   "execution_count": 22,
   "metadata": {},
   "outputs": [
    {
     "data": {
      "text/plain": [
       "False"
      ]
     },
     "execution_count": 22,
     "metadata": {},
     "output_type": "execute_result"
    }
   ],
   "source": [
    "c1 == c2"
   ]
  },
  {
   "cell_type": "code",
   "execution_count": 23,
   "metadata": {},
   "outputs": [
    {
     "data": {
      "text/plain": [
       "True"
      ]
     },
     "execution_count": 23,
     "metadata": {},
     "output_type": "execute_result"
    }
   ],
   "source": [
    "c1 != c2"
   ]
  },
  {
   "cell_type": "markdown",
   "metadata": {},
   "source": [
    "#### Polymorphism and inheritance\n",
    "\n",
    "Inheritance allows programmer to create a general class first then later extend it to more specialized class. It also allows programmer to write better code.\n",
    "\n",
    "Using inheritance you can inherit all access data fields and methods, plus you can add your own methods and fields, thus inheritance provide a way to organize code, rather than rewriting it from scratch.\n",
    "\n",
    "In object-oriented terminology when class X extend class Y, then Y is called super class or base class and X is called subclass or derived class. One more point to note that only data fields and method which are not private are accessible by child classes, private data fields and methods are accessible only inside the class.\n",
    "\n",
    "#### Content Source:[inheritance-and-polymorphism](https://thepythonguru.com/python-inheritance-and-polymorphism/)"
   ]
  },
  {
   "cell_type": "code",
   "execution_count": 2,
   "metadata": {},
   "outputs": [],
   "source": [
    "# Define Parent class\n",
    "\n",
    "class bio:\n",
    "    \n",
    "    def __init__(self,color,height):\n",
    "        self.__color = color\n",
    "        self.__height = height\n",
    "        \n",
    "    def getcolor(self):\n",
    "        return self.__color\n",
    "    \n",
    "    def getheight(self):\n",
    "        return self.__height\n",
    "    "
   ]
  },
  {
   "cell_type": "code",
   "execution_count": 5,
   "metadata": {},
   "outputs": [],
   "source": [
    "# create child class \n",
    "\n",
    "class person(bio):\n",
    "    \n",
    "    def __init__(self,name,color,height):\n",
    "        \n",
    "        #Calling Parent Constructor ro set color and height h\n",
    "        super().__init__(color,height)\n",
    "        self.name = name\n",
    "        \n",
    "    def show(self):\n",
    "        \n",
    "        print(self.name + ' is ' + self.getcolor() + ' in color and ' + self.getheight() + ' cm tall')"
   ]
  },
  {
   "cell_type": "code",
   "execution_count": 4,
   "metadata": {},
   "outputs": [
    {
     "name": "stdout",
     "output_type": "stream",
     "text": [
      "Aasai is light black in color and 178 cm tall\n"
     ]
    }
   ],
   "source": [
    "P1 = person('Aasai','light black','178')\n",
    "P1.show()"
   ]
  },
  {
   "cell_type": "code",
   "execution_count": 9,
   "metadata": {},
   "outputs": [],
   "source": [
    "# If you want to call getcolor() method in base class from child class \n",
    "\n",
    "# super().getcolor()\n",
    "\n",
    "# Similarly you can call base class constructor from child class constructir using following code \n",
    "\n",
    "# super().__init__()"
   ]
  },
  {
   "cell_type": "markdown",
   "metadata": {},
   "source": [
    "#### Multiple Inheritance\n",
    "\n",
    "Pyhton allows you to inherit methods from multiple classes \n",
    "\n",
    "class subclass(superclass1,superclass2,....):\n",
    "\n",
    "    # initializer/constructor\n",
    "    # method"
   ]
  },
  {
   "cell_type": "code",
   "execution_count": 16,
   "metadata": {},
   "outputs": [],
   "source": [
    "class friends:\n",
    "    \n",
    "    def callfriend(self):\n",
    "        print('Friend Called')\n",
    "        \n",
    "class family:\n",
    "    \n",
    "    def callfamily(self):\n",
    "        print('Family Called')\n",
    "        \n",
    "class Party(friends,family):\n",
    "    \n",
    "    def startparty(self):\n",
    "        print('Let\\'s' ' start')\n",
    "        "
   ]
  },
  {
   "cell_type": "code",
   "execution_count": 18,
   "metadata": {},
   "outputs": [
    {
     "name": "stdout",
     "output_type": "stream",
     "text": [
      "Family Called\n"
     ]
    }
   ],
   "source": [
    "p = Party()\n",
    "p.callfamily()"
   ]
  },
  {
   "cell_type": "code",
   "execution_count": 19,
   "metadata": {},
   "outputs": [
    {
     "name": "stdout",
     "output_type": "stream",
     "text": [
      "Friend Called\n"
     ]
    }
   ],
   "source": [
    "p.callfriend()"
   ]
  },
  {
   "cell_type": "code",
   "execution_count": 20,
   "metadata": {
    "scrolled": true
   },
   "outputs": [
    {
     "name": "stdout",
     "output_type": "stream",
     "text": [
      "Let's start\n"
     ]
    }
   ],
   "source": [
    "p.startparty()"
   ]
  },
  {
   "cell_type": "markdown",
   "metadata": {},
   "source": [
    "### More Examples From Stack overflow to get more intuition about how multiple inheritance works!\n",
    "\n",
    "[how-does-pythons-super-work-with-multiple-inheritance](https://stackoverflow.com/questions/3277367/how-does-pythons-super-work-with-multiple-inheritance)"
   ]
  },
  {
   "cell_type": "code",
   "execution_count": 45,
   "metadata": {},
   "outputs": [],
   "source": [
    "class First(object):\n",
    "    def __init__(self):\n",
    "        super(First, self).__init__()\n",
    "        print(\"first\")\n",
    "\n",
    "class Second(object):\n",
    "    def __init__(self):\n",
    "        super(Second, self).__init__()\n",
    "        print(\"second\")\n",
    "\n",
    "class Third(First, Second):\n",
    "    def __init__(self):\n",
    "        super(Third, self).__init__()\n",
    "        print(\"third\")"
   ]
  },
  {
   "cell_type": "code",
   "execution_count": 46,
   "metadata": {},
   "outputs": [
    {
     "name": "stdout",
     "output_type": "stream",
     "text": [
      "second\n",
      "first\n",
      "third\n"
     ]
    },
    {
     "data": {
      "text/plain": [
       "<__main__.Third at 0x1b36958a288>"
      ]
     },
     "execution_count": 46,
     "metadata": {},
     "output_type": "execute_result"
    }
   ],
   "source": [
    "Third()"
   ]
  },
  {
   "cell_type": "code",
   "execution_count": 48,
   "metadata": {},
   "outputs": [],
   "source": [
    "class First(object):\n",
    "      def __init__(self):\n",
    "        print(\"First(): entering\") \n",
    "        super(First, self).__init__()\n",
    "        print(\"First(): exiting\")\n",
    "\n",
    "class Second(object):\n",
    "      def __init__(self):\n",
    "        print( \"Second(): entering\")\n",
    "        super(Second, self).__init__()\n",
    "        print( \"Second(): exiting\")\n",
    "\n",
    "class Third(First, Second):\n",
    "    def __init__(self):\n",
    "        print(\"Third(): entering\")\n",
    "        super(Third, self).__init__()\n",
    "        print(\"Third(): exiting\")"
   ]
  },
  {
   "cell_type": "code",
   "execution_count": 49,
   "metadata": {},
   "outputs": [
    {
     "name": "stdout",
     "output_type": "stream",
     "text": [
      "Third(): entering\n",
      "First(): entering\n",
      "Second(): entering\n",
      "Second(): exiting\n",
      "First(): exiting\n",
      "Third(): exiting\n"
     ]
    },
    {
     "data": {
      "text/plain": [
       "<__main__.Third at 0x1b3695812c8>"
      ]
     },
     "execution_count": 49,
     "metadata": {},
     "output_type": "execute_result"
    }
   ],
   "source": [
    "Third()"
   ]
  },
  {
   "cell_type": "code",
   "execution_count": 75,
   "metadata": {},
   "outputs": [],
   "source": [
    "#definition of the class starts here\n",
    "class person1:\n",
    "    #constructor definition\n",
    "    def __init__(self,name,age):\n",
    "        self.name = name\n",
    "        self.age = age \n",
    "        \n",
    "    def showname(self):\n",
    "        print('person1 ',self.name)\n",
    "        \n",
    "    def showage(self):\n",
    "        print(self.age)\n",
    "\n",
    "class person2:\n",
    "    #constructor definition\n",
    "    def __init__(self,name,age):\n",
    "        self.name = name\n",
    "        self.age = age \n",
    "        \n",
    "    def showname(self):\n",
    "        print('person2',self.name)\n",
    "        \n",
    "    def showage(self):\n",
    "        print(self.age)\n",
    "        \n",
    "#bio is child class which inherits 2 super class\n",
    "# person1 & person2\n",
    "class bio(person2,person1):\n",
    "\n",
    "    def __init__(self,name,age):\n",
    "        super().__init__(name,age)\n",
    "        #person1.__init__(self,name,age)\n",
    "        #person2.__init__(self,name,age)"
   ]
  },
  {
   "cell_type": "code",
   "execution_count": 76,
   "metadata": {},
   "outputs": [
    {
     "name": "stdout",
     "output_type": "stream",
     "text": [
      "person2 Aasai\n"
     ]
    }
   ],
   "source": [
    "b=bio('Aasai',24)\n",
    "b.showname()"
   ]
  },
  {
   "cell_type": "markdown",
   "metadata": {},
   "source": [
    "### Let's Try Little different"
   ]
  },
  {
   "cell_type": "code",
   "execution_count": 116,
   "metadata": {},
   "outputs": [],
   "source": [
    "#definition of the class starts here\n",
    "class person1:\n",
    "    #constructor definition\n",
    "    def __init__(self):\n",
    "        self.name = 'Aasai'\n",
    "        print('person1 ',self.name)\n",
    "        \n",
    "    def showname(self):\n",
    "        print('person1 ',self.name)\n",
    "    \n",
    "\n",
    "class person2:\n",
    "    #constructor definition\n",
    "    def __init__(self):\n",
    "        self.name = 'Alangaram'\n",
    "        print('person2',self.name)\n",
    "        \n",
    "    def showname(self):\n",
    "        print('person2',self.name)\n",
    "        \n",
    "#bio is child class which inherits 2 super class\n",
    "# person1 & person2\n",
    "class bio(person1,person2):\n",
    "\n",
    "    def __init__(self):\n",
    "        super().__init__()\n",
    "        #person1.__init__(self,name,age)\n",
    "        #person2.__init__(self,name,age)\n",
    "    def getname(self):\n",
    "        print(self.name)"
   ]
  },
  {
   "cell_type": "code",
   "execution_count": 117,
   "metadata": {},
   "outputs": [
    {
     "name": "stdout",
     "output_type": "stream",
     "text": [
      "person1  Aasai\n",
      "Aasai\n"
     ]
    }
   ],
   "source": [
    "b = bio()\n",
    "b.getname()"
   ]
  },
  {
   "cell_type": "code",
   "execution_count": 118,
   "metadata": {},
   "outputs": [
    {
     "name": "stdout",
     "output_type": "stream",
     "text": [
      "(<class '__main__.bio'>, <class '__main__.person1'>, <class '__main__.person2'>, <class 'object'>)\n"
     ]
    }
   ],
   "source": [
    "print(bio.__mro__)"
   ]
  },
  {
   "cell_type": "markdown",
   "metadata": {},
   "source": [
    "#### The hierarchy of calls depend on the order of __init__() in subclass.MRO works in a depth first left to right way."
   ]
  },
  {
   "cell_type": "code",
   "execution_count": 109,
   "metadata": {},
   "outputs": [],
   "source": [
    "#definition of the class starts here\n",
    "class person1:\n",
    "    #constructor definition\n",
    "    def __init__(self):\n",
    "        self.name = 'Aasai'\n",
    "        print('person1 ',self.name)\n",
    "        \n",
    "    def showname(self):\n",
    "        print('person1 ',self.name)\n",
    "    \n",
    "\n",
    "class person2:\n",
    "    #constructor definition\n",
    "    def __init__(self):\n",
    "        self.name = 'Alangaram'\n",
    "        print('person2',self.name)\n",
    "        \n",
    "    def showname(self):\n",
    "        print('person2',self.name)\n",
    "        \n",
    "#bio is child class which inherits 2 super class\n",
    "# person1 & person2\n",
    "class bio(person2,person1):\n",
    "\n",
    "    def __init__(self):\n",
    "        #super().__init__()\n",
    "        person1.__init__(self)\n",
    "        person2.__init__(self)\n",
    "        \n",
    "    def getname(self):\n",
    "        print(self.name)"
   ]
  },
  {
   "cell_type": "code",
   "execution_count": 110,
   "metadata": {},
   "outputs": [
    {
     "name": "stdout",
     "output_type": "stream",
     "text": [
      "person1  Aasai\n",
      "person2 Alangaram\n",
      "Alangaram\n"
     ]
    }
   ],
   "source": [
    "b = bio()\n",
    "b.getname()"
   ]
  },
  {
   "cell_type": "code",
   "execution_count": 112,
   "metadata": {},
   "outputs": [
    {
     "name": "stdout",
     "output_type": "stream",
     "text": [
      "(<class '__main__.bio'>, <class '__main__.person2'>, <class '__main__.person1'>, <class 'object'>)\n"
     ]
    }
   ],
   "source": [
    "print(bio.__mro__)"
   ]
  },
  {
   "cell_type": "markdown",
   "metadata": {},
   "source": [
    "#### Overriding Methods\n",
    "\n",
    "To overide a method in parent class, child class should have to create method with same name and same number of parameters like in parent class\n",
    "\n",
    "\n",
    "[While the child class can access the parent class methods, it can also provide a new implementation to the parent class methods, which is called method overriding.](https://www.studytonight.com/python/method-overriding-in-python)"
   ]
  },
  {
   "cell_type": "code",
   "execution_count": 127,
   "metadata": {},
   "outputs": [],
   "source": [
    "#parent class\n",
    "class student1:\n",
    "    \n",
    "    def __init__(self):\n",
    "        pass\n",
    "    \n",
    "    def showmark(self):\n",
    "        print('Student 1 mark is 85')\n",
    "        \n",
    "#sub class\n",
    "class student2(student1):\n",
    "    \n",
    "    def __init__(self):\n",
    "        pass\n",
    "    \n",
    "    #overide with same name \n",
    "    def showmark(self):\n",
    "        print('student 2 mark is 86')"
   ]
  },
  {
   "cell_type": "code",
   "execution_count": 129,
   "metadata": {},
   "outputs": [
    {
     "name": "stdout",
     "output_type": "stream",
     "text": [
      "student 2 mark is 86\n"
     ]
    }
   ],
   "source": [
    "# create object for class student2 \n",
    "s = student2()\n",
    "s.showmark()"
   ]
  },
  {
   "cell_type": "code",
   "execution_count": 136,
   "metadata": {},
   "outputs": [],
   "source": [
    "class people:\n",
    "    \n",
    "    def color(self):\n",
    "        print('people are different in color')\n",
    "\n",
    "class indian(people):\n",
    "    \n",
    "    #Generally in india we can see people in all colors \n",
    "    #so here methods color need to be override\n",
    "    def color(self):\n",
    "        \n",
    "        print('Indians are white and black in color')"
   ]
  },
  {
   "cell_type": "code",
   "execution_count": 137,
   "metadata": {},
   "outputs": [
    {
     "name": "stdout",
     "output_type": "stream",
     "text": [
      "Indians are white and black in color\n"
     ]
    }
   ],
   "source": [
    "i = indian()\n",
    "i.color()"
   ]
  },
  {
   "cell_type": "code",
   "execution_count": null,
   "metadata": {},
   "outputs": [],
   "source": []
  }
 ],
 "metadata": {
  "kernelspec": {
   "display_name": "Python 3",
   "language": "python",
   "name": "python3"
  },
  "language_info": {
   "codemirror_mode": {
    "name": "ipython",
    "version": 3
   },
   "file_extension": ".py",
   "mimetype": "text/x-python",
   "name": "python",
   "nbconvert_exporter": "python",
   "pygments_lexer": "ipython3",
   "version": "3.7.4"
  }
 },
 "nbformat": 4,
 "nbformat_minor": 2
}
