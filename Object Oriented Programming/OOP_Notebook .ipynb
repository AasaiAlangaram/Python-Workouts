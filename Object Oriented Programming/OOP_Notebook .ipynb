{
 "cells": [
  {
   "cell_type": "markdown",
   "metadata": {},
   "source": [
    "### Object Oriented Programming"
   ]
  },
  {
   "cell_type": "markdown",
   "metadata": {},
   "source": [
    "### what-is-object-oriented-programming-oop)\n",
    "Object-oriented Programming, or OOP for short, is a programming paradigm which provides a means of structuring programs\n",
    "so that properties and behaviors are bundled into individual objects.\n",
    "\n",
    "#### DefinitionSource:[RealPython.com](https://realpython.com/python3-object-oriented-programming/#),[ThePythonGuru](https://thepythonguru.com/python-object-and-classes/)\n"
   ]
  },
  {
   "cell_type": "code",
   "execution_count": 11,
   "metadata": {},
   "outputs": [],
   "source": [
    "class Dog:\n",
    "\n",
    "    #Constructor\n",
    "    def __init__(self,name):\n",
    "        '''\n",
    "        All methods in python including some special methods like initializer have first parameter self. \n",
    "        This parameter refers to the object which invokes the method. \n",
    "        When you create new object the self parameter in the __init__  method\n",
    "        is automatically set to reference the object you have just created.\n",
    "        '''\n",
    "        self.name = name\n",
    "        \n",
    "    def show(self):\n",
    "        print('Dog name is ',self.name)"
   ]
  },
  {
   "cell_type": "code",
   "execution_count": 9,
   "metadata": {},
   "outputs": [
    {
     "name": "stdout",
     "output_type": "stream",
     "text": [
      "Dog name is  Rajapalayam\n"
     ]
    },
    {
     "data": {
      "text/plain": [
       "'Rajapalayam'"
      ]
     },
     "execution_count": 9,
     "metadata": {},
     "output_type": "execute_result"
    }
   ],
   "source": [
    "Breed = Dog('Rajapalayam') #Created a new object called breed \n",
    "\n",
    "Breed.show()\n",
    "Breed.name"
   ]
  },
  {
   "cell_type": "code",
   "execution_count": 10,
   "metadata": {},
   "outputs": [
    {
     "data": {
      "text/plain": [
       "'Labdog'"
      ]
     },
     "execution_count": 10,
     "metadata": {},
     "output_type": "execute_result"
    }
   ],
   "source": [
    "# You can also change the breed name\n",
    "\n",
    "Breed.name = 'Labdog'\n",
    "Breed.name\n",
    "\n",
    "# Giving access to your data outside the class is not a good idea"
   ]
  },
  {
   "cell_type": "markdown",
   "metadata": {},
   "source": [
    "#### Hiding data fields"
   ]
  },
  {
   "cell_type": "code",
   "execution_count": 19,
   "metadata": {},
   "outputs": [],
   "source": [
    "class BankAccount:\n",
    "    \n",
    "    def __init__(self,name,money):\n",
    "        self.name = name\n",
    "        self.__balance = money # here we're making balance as private data by using two leading undersc\n",
    "        \n",
    "    def deposit(self,money):\n",
    "        self.__balance += money \n",
    "        print('Deposit Successfully')\n",
    "        \n",
    "    def withdraw(self,money):\n",
    "        if self.__balance > money:\n",
    "            self.__balance -= money\n",
    "            print('Remaining Balance %d'%self.__balance)\n",
    "            return money\n",
    "        else:\n",
    "            print('Insufficient Balance')\n",
    "    \n",
    "    def balance_enquiry(self):\n",
    "        print('Remaining Balance %d'%self.__balance)\n",
    "        \n",
    "    def Account_details(self):\n",
    "        print('Account name:',self.name)\n",
    "        print('Balance:',self.__balance)\n",
    "        "
   ]
  },
  {
   "cell_type": "code",
   "execution_count": 20,
   "metadata": {},
   "outputs": [
    {
     "name": "stdout",
     "output_type": "stream",
     "text": [
      "Account name: Aasai\n",
      "Balance: 50000\n",
      "---------------\n",
      "Deposit Successfully\n",
      "---------------\n",
      "Remaining Balance 62000\n",
      "---------------\n",
      "Remaining Balance 12000\n"
     ]
    },
    {
     "data": {
      "text/plain": [
       "50000"
      ]
     },
     "execution_count": 20,
     "metadata": {},
     "output_type": "execute_result"
    }
   ],
   "source": [
    "#Access data inside class using our object\n",
    "\n",
    "Acc = BankAccount('Aasai',50000)\n",
    "\n",
    "Acc.Account_details()\n",
    "print('---------------')\n",
    "Acc.deposit(12000)\n",
    "print('---------------')\n",
    "Acc.balance_enquiry()\n",
    "print('---------------')\n",
    "Acc.withdraw(50000)"
   ]
  },
  {
   "cell_type": "code",
   "execution_count": 22,
   "metadata": {},
   "outputs": [
    {
     "ename": "AttributeError",
     "evalue": "'BankAccount' object has no attribute '__balance'",
     "output_type": "error",
     "traceback": [
      "\u001b[1;31m---------------------------------------------------------------------------\u001b[0m",
      "\u001b[1;31mAttributeError\u001b[0m                            Traceback (most recent call last)",
      "\u001b[1;32m<ipython-input-22-1318a707c801>\u001b[0m in \u001b[0;36m<module>\u001b[1;34m\u001b[0m\n\u001b[0;32m      1\u001b[0m \u001b[1;31m#Access private in class would end up in error\u001b[0m\u001b[1;33m\u001b[0m\u001b[1;33m\u001b[0m\u001b[1;33m\u001b[0m\u001b[0m\n\u001b[1;32m----> 2\u001b[1;33m \u001b[0mAcc\u001b[0m\u001b[1;33m.\u001b[0m\u001b[0m__balance\u001b[0m\u001b[1;33m\u001b[0m\u001b[1;33m\u001b[0m\u001b[0m\n\u001b[0m",
      "\u001b[1;31mAttributeError\u001b[0m: 'BankAccount' object has no attribute '__balance'"
     ]
    }
   ],
   "source": [
    "#Access private in class would end up in error \n",
    "Acc.__balance"
   ]
  },
  {
   "cell_type": "code",
   "execution_count": 23,
   "metadata": {},
   "outputs": [
    {
     "data": {
      "text/plain": [
       "'Aasai'"
      ]
     },
     "execution_count": 23,
     "metadata": {},
     "output_type": "execute_result"
    }
   ],
   "source": [
    "#Now Access public data in class\n",
    "\n",
    "Acc.name"
   ]
  },
  {
   "cell_type": "markdown",
   "metadata": {},
   "source": [
    "#### Operator Overloading"
   ]
  },
  {
   "cell_type": "code",
   "execution_count": 2,
   "metadata": {},
   "outputs": [],
   "source": [
    "class circle:\n",
    "    \n",
    "    def __init__(self,radius):\n",
    "        self.__radius = radius\n",
    "    \n",
    "    def get_radius(self):\n",
    "        return self.__radius"
   ]
  },
  {
   "cell_type": "code",
   "execution_count": 3,
   "metadata": {},
   "outputs": [
    {
     "data": {
      "text/plain": [
       "4"
      ]
     },
     "execution_count": 3,
     "metadata": {},
     "output_type": "execute_result"
    }
   ],
   "source": [
    "c1 = circle(4)\n",
    "c1.get_radius()"
   ]
  },
  {
   "cell_type": "code",
   "execution_count": 4,
   "metadata": {},
   "outputs": [
    {
     "data": {
      "text/plain": [
       "5"
      ]
     },
     "execution_count": 4,
     "metadata": {},
     "output_type": "execute_result"
    }
   ],
   "source": [
    "c2 = circle(5)\n",
    "c2.get_radius()"
   ]
  },
  {
   "cell_type": "code",
   "execution_count": 5,
   "metadata": {},
   "outputs": [
    {
     "ename": "TypeError",
     "evalue": "unsupported operand type(s) for +: 'circle' and 'circle'",
     "output_type": "error",
     "traceback": [
      "\u001b[1;31m---------------------------------------------------------------------------\u001b[0m",
      "\u001b[1;31mTypeError\u001b[0m                                 Traceback (most recent call last)",
      "\u001b[1;32m<ipython-input-5-643a6bd3265c>\u001b[0m in \u001b[0;36m<module>\u001b[1;34m\u001b[0m\n\u001b[1;32m----> 1\u001b[1;33m \u001b[0mc1\u001b[0m\u001b[1;33m+\u001b[0m\u001b[0mc2\u001b[0m\u001b[1;33m\u001b[0m\u001b[1;33m\u001b[0m\u001b[0m\n\u001b[0m",
      "\u001b[1;31mTypeError\u001b[0m: unsupported operand type(s) for +: 'circle' and 'circle'"
     ]
    }
   ],
   "source": [
    "c1+c2 # to add this together we need to define method for + operator"
   ]
  },
  {
   "cell_type": "code",
   "execution_count": 11,
   "metadata": {},
   "outputs": [],
   "source": [
    "class circle:\n",
    "    \n",
    "    def __init__(self,radius):\n",
    "        self.__radius = radius\n",
    "    \n",
    "    def get_radius(self):\n",
    "        return self.__radius\n",
    "    \n",
    "    def __add__(self, another_circle):\n",
    "        return circle( self.__radius + another_circle.__radius )\n",
    "        "
   ]
  },
  {
   "cell_type": "code",
   "execution_count": 12,
   "metadata": {},
   "outputs": [
    {
     "data": {
      "text/plain": [
       "4"
      ]
     },
     "execution_count": 12,
     "metadata": {},
     "output_type": "execute_result"
    }
   ],
   "source": [
    "c1 = circle(4)\n",
    "c1.get_radius()"
   ]
  },
  {
   "cell_type": "code",
   "execution_count": 14,
   "metadata": {},
   "outputs": [
    {
     "data": {
      "text/plain": [
       "5"
      ]
     },
     "execution_count": 14,
     "metadata": {},
     "output_type": "execute_result"
    }
   ],
   "source": [
    "c2 = circle(5)\n",
    "c2.get_radius()"
   ]
  },
  {
   "cell_type": "code",
   "execution_count": 16,
   "metadata": {},
   "outputs": [
    {
     "data": {
      "text/plain": [
       "9"
      ]
     },
     "execution_count": 16,
     "metadata": {},
     "output_type": "execute_result"
    }
   ],
   "source": [
    "c3 = c1 + c2\n",
    "c3.get_radius()"
   ]
  },
  {
   "cell_type": "code",
   "execution_count": 13,
   "metadata": {},
   "outputs": [],
   "source": [
    "# More Examples\n",
    "\n",
    "import math\n",
    "\n",
    "class operators:\n",
    "    \n",
    "    def __init__(self,rad):\n",
    "        self.__radius = rad\n",
    "        \n",
    "    def get_radius(self):\n",
    "        return self.__radius\n",
    "    \n",
    "    def __add__(self,another):\n",
    "        return operators(self.__radius + another.__radius)\n",
    "    \n",
    "    def __sub__(self,another):\n",
    "        return operators(self.__radius - another.__radius)\n",
    "    \n",
    "    def __mul__(self,another):\n",
    "        return operators(self.__radius * another.__radius)\n",
    "    \n",
    "    def __lt__(self,another):\n",
    "        return self.__radius < another.__radius\n",
    "    \n",
    "    def __gt__(self,another):\n",
    "        return self.__radius > another.__radius\n",
    "    \n",
    "    def __eq__(self,another):\n",
    "        return self.__radius == another.__radius\n",
    "    \n",
    "    def __ne__(self,another):\n",
    "        return self.__radius != another.__radius\n",
    "    "
   ]
  },
  {
   "cell_type": "code",
   "execution_count": 16,
   "metadata": {},
   "outputs": [],
   "source": [
    "c1 = operators(9)\n",
    "c2 = operators(4) "
   ]
  },
  {
   "cell_type": "code",
   "execution_count": 17,
   "metadata": {},
   "outputs": [
    {
     "name": "stdout",
     "output_type": "stream",
     "text": [
      "13\n"
     ]
    }
   ],
   "source": [
    "c3 = c1 + c2\n",
    "print(c3.get_radius())"
   ]
  },
  {
   "cell_type": "code",
   "execution_count": 18,
   "metadata": {},
   "outputs": [
    {
     "name": "stdout",
     "output_type": "stream",
     "text": [
      "5\n"
     ]
    }
   ],
   "source": [
    "c3 = c1 - c2\n",
    "print(c3.get_radius())"
   ]
  },
  {
   "cell_type": "code",
   "execution_count": 19,
   "metadata": {},
   "outputs": [
    {
     "name": "stdout",
     "output_type": "stream",
     "text": [
      "36\n"
     ]
    }
   ],
   "source": [
    "c3 = c1 * c2\n",
    "print(c3.get_radius())"
   ]
  },
  {
   "cell_type": "code",
   "execution_count": 20,
   "metadata": {},
   "outputs": [
    {
     "data": {
      "text/plain": [
       "True"
      ]
     },
     "execution_count": 20,
     "metadata": {},
     "output_type": "execute_result"
    }
   ],
   "source": [
    "c1 > c2"
   ]
  },
  {
   "cell_type": "code",
   "execution_count": 21,
   "metadata": {},
   "outputs": [
    {
     "data": {
      "text/plain": [
       "False"
      ]
     },
     "execution_count": 21,
     "metadata": {},
     "output_type": "execute_result"
    }
   ],
   "source": [
    "c1 < c2"
   ]
  },
  {
   "cell_type": "code",
   "execution_count": 22,
   "metadata": {},
   "outputs": [
    {
     "data": {
      "text/plain": [
       "False"
      ]
     },
     "execution_count": 22,
     "metadata": {},
     "output_type": "execute_result"
    }
   ],
   "source": [
    "c1 == c2"
   ]
  },
  {
   "cell_type": "code",
   "execution_count": 23,
   "metadata": {},
   "outputs": [
    {
     "data": {
      "text/plain": [
       "True"
      ]
     },
     "execution_count": 23,
     "metadata": {},
     "output_type": "execute_result"
    }
   ],
   "source": [
    "c1 != c2"
   ]
  },
  {
   "cell_type": "code",
   "execution_count": null,
   "metadata": {},
   "outputs": [],
   "source": []
  },
  {
   "cell_type": "code",
   "execution_count": null,
   "metadata": {},
   "outputs": [],
   "source": []
  },
  {
   "cell_type": "code",
   "execution_count": null,
   "metadata": {},
   "outputs": [],
   "source": []
  },
  {
   "cell_type": "code",
   "execution_count": null,
   "metadata": {},
   "outputs": [],
   "source": []
  },
  {
   "cell_type": "code",
   "execution_count": null,
   "metadata": {},
   "outputs": [],
   "source": []
  },
  {
   "cell_type": "code",
   "execution_count": null,
   "metadata": {},
   "outputs": [],
   "source": []
  },
  {
   "cell_type": "code",
   "execution_count": null,
   "metadata": {},
   "outputs": [],
   "source": []
  },
  {
   "cell_type": "code",
   "execution_count": null,
   "metadata": {},
   "outputs": [],
   "source": []
  },
  {
   "cell_type": "code",
   "execution_count": null,
   "metadata": {},
   "outputs": [],
   "source": []
  }
 ],
 "metadata": {
  "kernelspec": {
   "display_name": "Python 3",
   "language": "python",
   "name": "python3"
  },
  "language_info": {
   "codemirror_mode": {
    "name": "ipython",
    "version": 3
   },
   "file_extension": ".py",
   "mimetype": "text/x-python",
   "name": "python",
   "nbconvert_exporter": "python",
   "pygments_lexer": "ipython3",
   "version": "3.7.3"
  }
 },
 "nbformat": 4,
 "nbformat_minor": 2
}
